{
  "nbformat": 4,
  "nbformat_minor": 0,
  "metadata": {
    "colab": {
      "provenance": [],
      "toc_visible": true
    },
    "kernelspec": {
      "name": "python3",
      "display_name": "Python 3"
    },
    "language_info": {
      "name": "python"
    }
  },
  "cells": [
    {
      "cell_type": "code",
      "source": [
        "pip install shap"
      ],
      "metadata": {
        "id": "bytsm1vWBfQN"
      },
      "execution_count": null,
      "outputs": []
    },
    {
      "cell_type": "code",
      "execution_count": null,
      "metadata": {
        "id": "jF1VZQ06RvMD"
      },
      "outputs": [],
      "source": [
        "import pandas as pd\n",
        "# Set the file URL and filename\n",
        "url = 'https://archive.ics.uci.edu/ml/' \\\n",
        "'machine-learning-databases/' \\\n",
        "'wine-quality/winequality-white.csv'\n",
        "file_name = 'wine.csv'"
      ]
    },
    {
      "cell_type": "code",
      "source": [
        "try:\n",
        "  wine = pd.read_csv(file_name)\n",
        "except FileNotFoundError:\n",
        "  print(f'Downloading {file_name} from {url}...')\n",
        "  wine = pd.read_csv(url, sep=\";\")\n",
        "  wine.to_csv(file_name, index=False)\n",
        "  print('Download complete!')\n",
        "\n",
        "from tabulate import tabulate\n",
        "summary = wine.describe().transpose().round(2)\n",
        "summary = summary.drop(\"count\", axis=1)\n",
        "# Create a markdown table\n",
        "markdown_table = tabulate(\n",
        "summary, headers='keys', tablefmt='pipe'\n",
        ")\n",
        "print(markdown_table)"
      ],
      "metadata": {
        "id": "8E6aLUlGRwVA"
      },
      "execution_count": null,
      "outputs": []
    },
    {
      "cell_type": "code",
      "source": [
        "from sklearn.model_selection import train_test_split\n",
        "# Extract the target variable (wine quality) from the data\n",
        "y = wine['quality']\n",
        "X = wine.drop('quality', axis=1)\n",
        "X_train, X_test, y_train, y_test = train_test_split(\n",
        "X, y, test_size=0.2, random_state=42\n",
        ")"
      ],
      "metadata": {
        "id": "lBm78krZUbWc"
      },
      "execution_count": null,
      "outputs": []
    },
    {
      "cell_type": "code",
      "source": [
        "from sklearn.linear_model import LinearRegression\n",
        "model = LinearRegression()\n",
        "model = model.fit(X_train, y_train)"
      ],
      "metadata": {
        "id": "iEIGLzadUzdH"
      },
      "execution_count": null,
      "outputs": []
    },
    {
      "cell_type": "code",
      "source": [
        "from sklearn.metrics import mean_absolute_error\n",
        "y_pred = model.predict(X_test)\n",
        "mae = mean_absolute_error(y_test, y_pred)\n",
        "print(f\"MAE: {mae:.2f}\")"
      ],
      "metadata": {
        "id": "-wBKHtOWU1na"
      },
      "execution_count": null,
      "outputs": []
    },
    {
      "cell_type": "code",
      "source": [
        "import numpy as np\n",
        "coefs = pd.DataFrame({\n",
        "'feature': X.columns.values,\n",
        "'coefficient': np.round(model.coef_, 3)\n",
        "})\n",
        "print(coefs.to_markdown(index=False))"
      ],
      "metadata": {
        "id": "aUA_SEZpU78t"
      },
      "execution_count": null,
      "outputs": []
    },
    {
      "cell_type": "code",
      "source": [
        "import shap\n",
        "explainer = shap.LinearExplainer(model, X_train)\n",
        "shap_values = explainer(X_test)\n",
        "print(shap_values.values)"
      ],
      "metadata": {
        "id": "mFpQ3T79U-Lf"
      },
      "execution_count": null,
      "outputs": []
    },
    {
      "cell_type": "code",
      "source": [
        "shap.plots.waterfall(shap_values[0])"
      ],
      "metadata": {
        "id": "3WC2PnV4VSq2"
      },
      "execution_count": null,
      "outputs": []
    },
    {
      "cell_type": "code",
      "source": [
        "shap.waterfall_plot(shap_values[1])"
      ],
      "metadata": {
        "id": "kXWnv-xnVVKu"
      },
      "execution_count": null,
      "outputs": []
    },
    {
      "cell_type": "code",
      "source": [
        "shap.plots.beeswarm(shap_values)"
      ],
      "metadata": {
        "id": "NRCbqiCcVZBU"
      },
      "execution_count": null,
      "outputs": []
    },
    {
      "cell_type": "code",
      "source": [
        "shap.plots.scatter(shap_values[:, 'alcohol'])"
      ],
      "metadata": {
        "id": "bkTTF2mNVcRA"
      },
      "execution_count": null,
      "outputs": []
    },
    {
      "cell_type": "code",
      "source": [
        "feature = 'alcohol'\n",
        "ind = X_test.columns.get_loc(feature)\n",
        "coefs.coefficient[ind]"
      ],
      "metadata": {
        "id": "GzMOkxLUVfO7"
      },
      "execution_count": null,
      "outputs": []
    }
  ]
}